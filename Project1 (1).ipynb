{
 "cells": [
  {
   "cell_type": "code",
   "execution_count": null,
   "id": "7000b707",
   "metadata": {},
   "outputs": [],
   "source": [
    "import random\n",
    "active=True\n",
    "while active:\n",
    "    user=input(\"Rock, Paper, or Scissors? Enter Stop to end: \")\n",
    "    userpick=user.title()\n",
    "    computer=random.randrange(0,3)\n",
    "    #Paper=0\n",
    "    #Rock=1\n",
    "    #Scissors=2\n",
    "    if userpick==\"Rock\" and computer==0:\n",
    "        print(\"The computer picked paper! You lost!\")\n",
    "    elif userpick==\"Rock\" and computer==2:\n",
    "        print(\"The computer picked scissors! You won!\")\n",
    "    elif userpick==\"Rock\" and computer==1:\n",
    "        print(\"The computer picked rock! Tie!\")\n",
    "    elif userpick==\"Paper\" and computer==0:\n",
    "        print(\"The computer picked paper! Tie!\")\n",
    "    elif userpick==\"Paper\" and computer==2:\n",
    "        print(\"The computer picked scissors! You Lost!\")\n",
    "    elif userpick==\"Paper\" and computer==1:\n",
    "        print(\"The computer picked rock! You Won!\")\n",
    "    elif userpick==\"Scissors\" and computer==0:\n",
    "        print(\"The computer picked paper! You Won!\")\n",
    "    elif userpick==\"Scissors\" and computer==2:\n",
    "        print(\"The computer picked scissors! Tie!\")\n",
    "    elif userpick==\"Stop\":\n",
    "        active=False\n",
    "    else:\n",
    "        print(\"The computer picked rock! You lost!\")"
   ]
  },
  {
   "cell_type": "code",
   "execution_count": null,
   "id": "e1ecb1ef",
   "metadata": {},
   "outputs": [],
   "source": []
  }
 ],
 "metadata": {
  "kernelspec": {
   "display_name": "Python 3 (ipykernel)",
   "language": "python",
   "name": "python3"
  },
  "language_info": {
   "codemirror_mode": {
    "name": "ipython",
    "version": 3
   },
   "file_extension": ".py",
   "mimetype": "text/x-python",
   "name": "python",
   "nbconvert_exporter": "python",
   "pygments_lexer": "ipython3",
   "version": "3.9.12"
  }
 },
 "nbformat": 4,
 "nbformat_minor": 5
}
